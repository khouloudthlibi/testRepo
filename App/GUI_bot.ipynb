{
 "cells": [
  {
   "cell_type": "code",
   "execution_count": 2,
   "metadata": {},
   "outputs": [],
   "source": [
    "#Description: This is a chat bot GUI"
   ]
  },
  {
   "cell_type": "code",
   "execution_count": 98,
   "metadata": {},
   "outputs": [],
   "source": [
    "#Import the library Tkinter\n",
    "#Tkinter is the standard GUI library for Python. Python when combined with Tkinter provides a fast and easy way to create GUI applications. Tkinter provides a powerful object-oriented interface to the Tk GUI toolkit\n",
    "from tkinter import *"
   ]
  },
  {
   "cell_type": "code",
   "execution_count": 99,
   "metadata": {},
   "outputs": [],
   "source": [
    "#create tkinter object\n",
    "root = Tk()"
   ]
  },
  {
   "cell_type": "code",
   "execution_count": 100,
   "metadata": {},
   "outputs": [
    {
     "data": {
      "text/plain": [
       "''"
      ]
     },
     "execution_count": 100,
     "metadata": {},
     "output_type": "execute_result"
    }
   ],
   "source": [
    "#Give the Window a title and a shape\n",
    "root.title(\"Chat Bot\")\n",
    "root.geometry(\"400x500\")\n",
    "\n",
    "#Make the window such that it can’t be resized\n",
    "root.resizable(width=FALSE, height=FALSE)"
   ]
  },
  {
   "cell_type": "code",
   "execution_count": 101,
   "metadata": {},
   "outputs": [],
   "source": [
    "#Create the main menu\n",
    "main_menu = Menu(root)"
   ]
  },
  {
   "cell_type": "code",
   "execution_count": 102,
   "metadata": {},
   "outputs": [],
   "source": [
    "#Add some sub menus to the main menu\n",
    "# Create the submenu \n",
    "file_menu = Menu(root)\n",
    "\n",
    "# Add commands to submenu\n",
    "file_menu.add_command(label=\"New..\")\n",
    "file_menu.add_command(label=\"Save As..\")\n",
    "file_menu.add_command(label=\"Exit\")\n",
    "main_menu.add_cascade(label=\"File\", menu=file_menu)\n",
    "#Add the rest of the menu options to the main menu\n",
    "main_menu.add_command(label=\"Edit\")\n",
    "main_menu.add_command(label=\"Quit\")\n",
    "root.config(menu=main_menu)"
   ]
  },
  {
   "cell_type": "code",
   "execution_count": 103,
   "metadata": {},
   "outputs": [],
   "source": [
    "#Create a window for the conversation\n",
    "chatWindow = Text(root, bd=1, bg=\"grey\",  width=\"50\", \n",
    "                  height=\"8\", font=(\"Arial\", 23), foreground=\"#d8ffff\")\n",
    "\n",
    "#place it on the parent window\n",
    "chatWindow.place(x=6,y=6, height=385, width=370)"
   ]
  },
  {
   "cell_type": "code",
   "execution_count": 104,
   "metadata": {},
   "outputs": [],
   "source": [
    "#Create the text area where the messages will be entered\n",
    "messageWindow = Text(root, bd=0, bg=\"grey\",width=\"30\", \n",
    "                     height=\"4\", font=(\"Arial\", 23), foreground=\"#d8ffff\")\n",
    "\n",
    "#place it on the parent window\n",
    "messageWindow.place(x=6, y=400, height=60, width=255)"
   ]
  },
  {
   "cell_type": "code",
   "execution_count": 105,
   "metadata": {},
   "outputs": [],
   "source": [
    "#Create a scroll bar and place it on the parent window.\n",
    "scrollbar = Scrollbar(root, command=chatWindow.yview, cursor=\"star\")\n",
    "scrollbar.place(x=375,y=5, height=385)"
   ]
  },
  {
   "cell_type": "code",
   "execution_count": 106,
   "metadata": {},
   "outputs": [],
   "source": [
    "#Create a button to send the message\n",
    "\n",
    "Button= Button(root, text=\"Send\",  width=\"12\", height=5,\n",
    "                    bd=0, bg=\"#0080ff\", activebackground=\"#00bfff\",foreground='#ffffff',font=(\"Arial\", 12))\n",
    "Button.place(x=260, y=400, height=60)"
   ]
  },
  {
   "cell_type": "code",
   "execution_count": 107,
   "metadata": {},
   "outputs": [],
   "source": [
    "root.mainloop()"
   ]
  },
  {
   "cell_type": "code",
   "execution_count": null,
   "metadata": {},
   "outputs": [],
   "source": []
  }
 ],
 "metadata": {
  "kernelspec": {
   "display_name": "Python 3",
   "language": "python",
   "name": "python3"
  }
 },
 "nbformat": 4,
 "nbformat_minor": 4
}
