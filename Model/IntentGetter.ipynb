{
 "cells": [
  {
   "cell_type": "code",
   "execution_count": 4,
   "metadata": {},
   "outputs": [],
   "source": [
    "#Libraries\n",
    "import csv\n",
    "import json\n",
    "import nltk\n",
    "import string\n",
    "import pickle\n",
    "import requests\n",
    "import numpy as np\n",
    "import pandas as pd\n",
    "from nltk import pos_tag\n",
    "from sklearn import metrics\n",
    "from bs4 import BeautifulSoup\n",
    "from nltk.corpus import wordnet\n",
    "from nltk.corpus import stopwords\n",
    "from sklearn.pipeline import Pipeline\n",
    "from nltk.stem import WordNetLemmatizer\n",
    "from nltk.tokenize import word_tokenize\n",
    "from sklearn.metrics import accuracy_score\n",
    "from sklearn.model_selection import GridSearchCV\n",
    "from sklearn.metrics import classification_report\n",
    "from sklearn.ensemble import RandomForestClassifier\n",
    "from sklearn.model_selection import train_test_split\n",
    "from sklearn.feature_extraction.text import CountVectorizer\n",
    "from sklearn.feature_extraction.text import TfidfTransformer"
   ]
  },
  {
   "cell_type": "code",
   "execution_count": 6,
   "metadata": {},
   "outputs": [
    {
     "name": "stdout",
     "output_type": "stream",
     "text": [
      "                                               question    post_tag\n",
      "0            Removing Double Or More Slashes and “str=”   .htaccess\n",
      "1            Protected directories and IP white listing   .htaccess\n",
      "2     I converted my htaccess to nginx, can someone ...   .htaccess\n",
      "3     301 Redirect root without cascading new root d...   .htaccess\n",
      "4     Masking url to show content from different domain   .htaccess\n",
      "...                                                 ...         ...\n",
      "9993  Download highest quality audio from YouTube us...  youtube-dl\n",
      "9994  Using “yum” to update RPM on Red Hat Enterpris...         yum\n",
      "9995  ZFS data corruption on multiple disks at same ...         zfs\n",
      "9996      Enable map dragging and zooming in Openlayers        zoom\n",
      "9997  How to stop zsh from reprinting the previous c...         zsh\n",
      "\n",
      "[9998 rows x 2 columns]\n"
     ]
    }
   ],
   "source": [
    "# Load data csv format\n",
    "dataset = pd.read_csv(r'C:\\Users\\Hp\\Desktop\\Chatbot\\data\\data1.csv', sep=';', header=0) \n",
    "question = dataset['question']\n",
    "intent = dataset['post_tag']\n",
    "#dataset.sort_values(by=['post_tag'], inplace=True)\n",
    "print(dataset)"
   ]
  },
  {
   "cell_type": "code",
   "execution_count": 19,
   "metadata": {},
   "outputs": [],
   "source": [
    "#Langages\n",
    "python = ['python', 'numpy', 'dask', 'python-3.x', 'pandas', 'pandas-profiling', 'python-2.7', 'python-3.6', 'python-3.7',\n",
    "          'python-attrs', 'python-sphinx', 'flask']\n",
    "\n",
    "javascript = ['javascript', 'jquery', 'jquery-chosen', 'jquery-select2', 'jquery-ui', 'ajax', 'highcharts', 'deno',\n",
    "              'leaflet', 'webpack', 'node.js', 'vue.js', 'handlebars.js', 'three.js', 'nuxt.js', 'vuetify.js', \n",
    "              'discord.js', 'd3.js', 'pixi.js', 'next.js', 'chart.js', 'vuejs2']\n",
    "\n",
    "java = ['java', 'multithreading', 'jsf', 'jsf-2.2', 'javafx', 'graphql-java', 'java-8', 'javac', 'hibernate', 'gradle', \n",
    "        'hadoop']\n",
    "\n",
    "csharp = ['c#', 'c#-4.0']\n",
    "\n",
    "android = ['android', 'android-studio', 'android-emulator', 'android-recyclerview', 'android-room', 'xamarin.android']\n",
    "\n",
    "php = ['php', 'composer-php', 'cakephp-2.0', 'phpmailer', 'symfony4', 'symfony', 'codeigniter', 'laravel', \n",
    "       'backpack-for-laravel', 'laravel-5', 'laravel-5.8', 'laravel-7', 'laravel-echo']\n",
    "\n",
    "r = ['r']\n",
    "\n",
    "cplusplus = ['c++', 'c++11']\n",
    "\n",
    "react = ['react-native', 'reactjs', 'react-admin', 'create-react-app', 'react-google-maps', 'react-hooks', \n",
    "         'react-leaflet', 'react-redux']\n",
    "\n",
    "html = ['html', 'h2', 'amp-html', 'html5-audio']\n",
    "\n",
    "sql = ['hive', 'sql', 'mysql', 'firebase', 'mongodb', 'postgresql', 'sql-server', 'database', 'oracle-sqldeveloper',\n",
    "       'plsql', 'cassandra', 'azure-sql-database', 'plsqldeveloper', 'ksqldb', 'flask-sqlalchemy', 'sql-server-2016',\n",
    "       'sqldatatypes', 'sqlite', 'sqlplus', 'tsql', 'graphql', 'db2', 'entity-framework', 'entity-framework-core']\n",
    "\n",
    "angular = ['angular', 'angular-material', 'angular7', 'angularjs', 'angular8', 'ag-grid-angular']\n",
    "c = ['c', 'objective-c']\n",
    "type_script = ['typescript']\n",
    "scala = ['scala']\n",
    "go = ['go']\n",
    "dot_net = ['.net', 'vb.net', '.net-core', 'asp.net', 'asp.net-core', 'asp.net-mvc', 'asp.net-ajax', 'asp.net-core-signalr',\n",
    "           '.net-standard', 'linq', 'xamarin']\n",
    "css = ['css', 'postcss'] \n",
    "kotlin = ['kotlin', 'kotlin-coroutines']\n",
    "go = ['go']\n",
    "matlab = ['matlab']\n",
    "uml = ['uml']\n",
    "rust = ['rust']\n",
    "lua = ['lua'] \n",
    "ruby = ['ruby']\n",
    "awk = ['awk']\n",
    "haskell = ['haskell']\n",
    "\n",
    "#framework\n",
    "framework = ['swift', 'spring', 'spring-boot', 'spring-batch', 'spring-data-jpa', 'spring-cloud-dataflow',\n",
    "             'spring-data-r2dbc', 'spring-kafka', 'selenium', 'selenium-webdriver', 'selenium-chromedriver',\n",
    "             'ruby-on-rails', 'ruby-on-rails-5', 'ionic-framework', 'ionic5'] \n",
    "\n",
    "#platforms\n",
    "platform = ['mapbox', 'cordova', 'heroku', 'autodesk-forge', 'cross-platform', 'parse-platform', 'woocommerce', 'magento']\n",
    "\n",
    "#data\n",
    "data = ['data-structures', 'data-mining', 'databricks', 'dataframe', 'dataset', 'data-science', 'database-design', \n",
    "        'image', 'file', 'pdf', 'datatable','json', 'geojson', 'datatables', 'dataweave', 'datetime', 'arrays', 'ggplot2',\n",
    "        'snowflake-cloud-data-platform', 'star-schema-datawarehouse', 'string', 'audio', 'powerbi', 'neo4j', 'forms']\n",
    "\n",
    "#API\n",
    "api = ['api', 'uber-api', 'wordpress-rest-api', 'qt', 'tradingview-api', 'here-api', 'facebook-graph-api', 'winapi',\n",
    "       'github-api', 'rest', 'asp.net-web-api', 'google-calendar-api', 'google-api', 'google-drive-api', \n",
    "       'azure-api-management']\n",
    "\n",
    "#system\n",
    "system = ['git', 'gitignore', 'gitlab', 'github', 'bash', 'terminal', 'powershell', 'wershell-2.0', 'shell',\n",
    "           'powershell-3.0', 'command-line', 'batch-file', 'cron', 'wordpress', 'wordpress-theming', 'kubernetes', \n",
    "           'kubernetes-ingress'] \n",
    "\n",
    "#Operating_system\n",
    "Operating_system = ['ios', 'linux', 'windows', 'oracle', 'raspbian', 'ubuntu-18.04', 'ubuntu-20.04', 'linux-kernel',\n",
    "                    'microsoft-graph', 'kali-linux', 'ubuntu', 'unix', 'centos', 'macos', 'oracle-apex', \n",
    "                    'oracle11g', 'oracle12c', 'oracledb']\n",
    "\n",
    "#server\n",
    "server = ['tomcat', 'tomcat9', 'serve', 'apache', 'apache-spark', 'apache-kafka', 'apache-flink', 'apache-zookeeper',\n",
    "          'apache-camel', 'apache-superset', 'server','apache-mina', 'apache-poi', 'jenkins', 'jenkins-pipeline',\n",
    "          'aws-billing', 'aws-lambda', 'redis', '.htaccess', 'blazor']\n",
    "\n",
    "\n",
    "#Google\n",
    "google = ['google-chrome', 'google-analytics', 'google-data-studio', 'google-app-engine', 'google-bigquery', \n",
    "          'google-apps-script', 'google-cloud-platform', 'google-sheets', 'google-adwords', 'google-bi-engine',\n",
    "          'google-chrome-extension', 'google-cloud-functions', 'google-cloud-run', 'google-cloud-sql',\n",
    "          'google-cloud-storage', 'google-colaboratory', 'google-compute-engine', 'google-fit', 'google-maps', \n",
    "          'google-people', 'google-sheets-formula', 'google-smart-home']\n",
    "\n",
    "            \n",
    "#Artificial_Intelligence\n",
    "ai = ['deep-learning', 'kerberos', 'language-detection', 'logistic-regression', 'linear-programming','random-forest',\n",
    "      'machine-learning', 'reinforcement-learning', 'tensorflow', 'neural-network', 'tensorflow2.0', 'nlp', \n",
    "      'image-processing', 'artificial-intelligence', 'keras', 'pyspark','botframework', 'computer-vision']\n",
    "\n",
    "IOT = ['arduino', 'raspberry-pi', 'aws-iot', 'robotframework', 'mqtt', 'gps']\n",
    "\n",
    "software_tool = ['regex', 'jmeter', 'dynamics-crm', 'elasticsearch', 'maven', 'ansible', 'delphi', 'gcc', 'websphere',\n",
    "                 'caching', 'crystal-reports', 'nginx', 'odoo', 'virtualbox', 'cmake', 'internet-explorer', 'docker',\n",
    "                 'docker-swarm', 'docker-compose']\n",
    "\n",
    "communication = ['ip', 'ip-address', 'gateway', 'routes', 'serial-port', 'networking', 'wireless', 'airflow','connection',\n",
    "                 'xml', 'xpath', 'xslt']\n",
    "\n",
    "Security = ['logging', 'authentication', 'encryption', 'security', 'cryptography'] \n",
    "\n",
    "Mathematics = ['geometry', 'graph', 'graphics', 'hex', 'matplotlib', 'matrix', 'variables', 'statistics']\n",
    "\n",
    "protocols = ['http-status-code-404', 'openssl', 'nearprotocol', 'protocol-buffers', 'protocols', 'ssl', 'http',\n",
    "             'oauth-2.0', 'ssh'] \n",
    "\n",
    "algorithm = ['algorithm', 'for-loop', 'if-statement', 'loops', 'function', 'list', 'dictionary', \n",
    "             'compiler-optimization', 'environment-variables', 'events', 'listview']\n",
    "\n",
    "Quality = ['validation', 'performance','optimization', 'automation', 'debugging', 'accelerometer'] \n",
    "\n",
    "\n",
    "\n",
    "Editor = ['install4j', 'eclipse', 'visual-studio-code', 'sublimetext3', 'jupyter-notebook', 'notepad++', \n",
    "          'visual-studio', 'intellij-idea', 'latex', 'salesforce', 'visual-studio-2010', 'visual-studio-2019',\n",
    "          'markdown']\n",
    "\n",
    "communication_App = ['ffmpeg', 'youtube', 'facebook', 'gmail', 'email', 'whatsapp',  'notifications', 'youtube-dl',\n",
    "                     'facebook-login', 'chatbot', 'web-applications', 'zoom']\n",
    "\n",
    "cloud = ['cloud', 'amazon-cloudformation', 'amazon-cloudwatch', 'firebase-cloud-messaging', 'ibm-cloud', 'soundcloud'] \n",
    "\n",
    "amazon = ['amazon-dynamodb', 'amazon-ec2', 'amazon',  'amazon-cognito', 'amazon-ecs', 'amazon-lex', 'amazon-s3',\n",
    "          'amazon-ses'] "
   ]
  },
  {
   "cell_type": "code",
   "execution_count": 20,
   "metadata": {},
   "outputs": [],
   "source": [
    "labels = {'python', 'javascript', 'java', 'csharp', 'android', 'php', 'r', 'cplusplus', 'react', 'html', 'sql', 'Operating_system', 'angular'}\n",
    "dataset[\"label\"] = ''\n",
    "\n",
    "for j in range(0, 9997):\n",
    "    if dataset['post_tag'][j] in python:\n",
    "        dataset[\"label\"][j] = 'python' \n",
    "    elif dataset['post_tag'][j] in javascript:\n",
    "        dataset[\"label\"][j] = 'javascript'\n",
    "    elif dataset['post_tag'][j] in java:\n",
    "        dataset[\"label\"][j] = 'java'\n",
    "    elif dataset['post_tag'][j] in csharp:\n",
    "        dataset[\"label\"][j] = 'csharp'\n",
    "    elif dataset['post_tag'][j] in android:\n",
    "        dataset[\"label\"][j] = 'android'\n",
    "    elif dataset['post_tag'][j] in php:\n",
    "        dataset[\"label\"][j] = 'php'\n",
    "    elif dataset['post_tag'][j] in r:\n",
    "        dataset[\"label\"][j] = 'r'\n",
    "    elif dataset['post_tag'][j] in cplusplus:\n",
    "        dataset[\"label\"][j] = 'cplusplus'\n",
    "    elif dataset['post_tag'][j] in react:\n",
    "        dataset[\"label\"][j] = 'react'\n",
    "    elif dataset['post_tag'][j] in html:\n",
    "        dataset[\"label\"][j] = 'html'\n",
    "    elif dataset['post_tag'][j] in sql:\n",
    "        dataset[\"label\"][j] = 'sql'\n",
    "    elif dataset['post_tag'][j] in Operating_system:\n",
    "        dataset[\"label\"][j] = 'Operating_system'\n",
    "    elif dataset['post_tag'][j] in angular:\n",
    "        dataset[\"label\"][j] = 'angular'\n",
    "    elif dataset['post_tag'][j] in c:\n",
    "        dataset[\"label\"][j] = 'c'\n",
    "    elif dataset['post_tag'][j] in type_script:\n",
    "        dataset[\"label\"][j] = 'type_script'\n",
    "    elif dataset['post_tag'][j] in scala:\n",
    "        dataset[\"label\"][j] = 'scala'\n",
    "    elif dataset['post_tag'][j] in go:\n",
    "        dataset[\"label\"][j] = 'go'\n",
    "    elif dataset['post_tag'][j] in dot_net:\n",
    "        dataset[\"label\"][j] = 'dot_net'\n",
    "    elif dataset['post_tag'][j] in ai:\n",
    "        dataset[\"label\"][j] = 'ai'\n",
    "    elif dataset['post_tag'][j] in software_tool:\n",
    "        dataset[\"label\"][j] = 'software_tool'\n",
    "    elif dataset['post_tag'][j] in communication:\n",
    "        dataset[\"label\"][j] = 'communication'\n",
    "    elif dataset['post_tag'][j] in Security:\n",
    "        dataset[\"label\"][j] = 'Security'\n",
    "    elif dataset['post_tag'][j] in Mathematics:\n",
    "        dataset[\"label\"][j] = 'Mathematics'\n",
    "    elif dataset['post_tag'][j] in IOT:\n",
    "        dataset[\"label\"][j] = 'IOT'\n",
    "    elif dataset['post_tag'][j] in protocols:\n",
    "        dataset[\"label\"][j] = 'protocols'\n",
    "    elif dataset['post_tag'][j] in algorithm:\n",
    "        dataset[\"label\"][j] = 'algorithm'\n",
    "    elif dataset['post_tag'][j] in Quality:\n",
    "        dataset[\"label\"][j] = 'Quality'\n",
    "    elif dataset['post_tag'][j] in Editor:\n",
    "        dataset[\"label\"][j] = 'Editor'\n",
    "    elif dataset['post_tag'][j] in communication_App:\n",
    "        dataset[\"label\"][j] = 'communication_App'\n",
    "    elif dataset['post_tag'][j] in cloud:\n",
    "        dataset[\"label\"][j] = 'cloud'\n",
    "    elif dataset['post_tag'][j] in amazon:\n",
    "        dataset[\"label\"][j] = 'amazon'\n",
    "    elif dataset['post_tag'][j] in server:\n",
    "        dataset[\"label\"][j] = 'server'\n",
    "    elif dataset['post_tag'][j] in google:\n",
    "        dataset[\"label\"][j] = 'google'\n",
    "    elif dataset['post_tag'][j] in platform:\n",
    "        dataset[\"label\"][j] = 'platform'\n",
    "    elif dataset['post_tag'][j] in data:\n",
    "        dataset[\"label\"][j] = 'data'\n",
    "    elif dataset['post_tag'][j] in system:\n",
    "        dataset[\"label\"][j] = 'system'\n",
    "    elif dataset['post_tag'][j] in framework:\n",
    "        dataset[\"label\"][j] = 'framework'\n",
    "    elif dataset['post_tag'][j] in api:\n",
    "        dataset[\"label\"][j] = 'api'\n",
    "    elif dataset['post_tag'][j] in css:\n",
    "        dataset[\"label\"][j] = 'css'\n",
    "    elif dataset['post_tag'][j] in kotlin:\n",
    "        dataset[\"label\"][j] = 'kotlin'\n",
    "    elif dataset['post_tag'][j] in matlab:\n",
    "        dataset[\"label\"][j] = 'matlab'\n",
    "    elif dataset['post_tag'][j] in uml:\n",
    "        dataset[\"label\"][j] = 'uml'\n",
    "    elif dataset['post_tag'][j] in rust:\n",
    "        dataset[\"label\"][j] = 'rust'\n",
    "    elif dataset['post_tag'][j] in lua:\n",
    "        dataset[\"label\"][j] = 'lua'\n",
    "    elif dataset['post_tag'][j] in ruby:\n",
    "        dataset[\"label\"][j] = 'ruby'\n",
    "    elif dataset['post_tag'][j] in haskell:\n",
    "        dataset[\"label\"][j] = 'haskell'\n",
    "    else:\n",
    "        dataset['label'][j] = 'no_meaning'\n",
    "       "
   ]
  },
  {
   "cell_type": "code",
   "execution_count": 21,
   "metadata": {},
   "outputs": [
    {
     "name": "stdout",
     "output_type": "stream",
     "text": [
      "Counter({'python': 1619, 'javascript': 1334, 'no_meaning': 1255, 'java': 687, 'sql': 485, 'csharp': 424, 'php': 402, 'android': 359, 'Operating_system': 330, 'r': 271, 'cplusplus': 268, 'react': 264, 'system': 221, 'software_tool': 208, 'html': 204, 'framework': 202, 'angular': 162, 'data': 155, 'c': 130, 'dot_net': 115, 'server': 113, 'google': 82, 'ai': 77, 'algorithm': 62, 'Editor': 60, 'css': 59, 'api': 56, 'type_script': 44, 'communication': 38, 'communication_App': 37, 'scala': 35, 'platform': 31, 'Quality': 30, 'protocols': 28, 'IOT': 20, 'go': 20, 'matlab': 20, 'amazon': 14, 'Security': 14, 'kotlin': 12, 'rust': 10, 'lua': 9, 'ruby': 9, 'Mathematics': 8, 'cloud': 7, 'haskell': 6, 'uml': 1, '': 1})\n"
     ]
    }
   ],
   "source": [
    "import collections\n",
    "counter=collections.Counter(dataset['label'])\n",
    "print(counter)"
   ]
  },
  {
   "cell_type": "code",
   "execution_count": 22,
   "metadata": {},
   "outputs": [],
   "source": [
    "def Pos_tagging (pos_tag):\n",
    "     if pos_tag.startswith('J'):\n",
    "         return wordnet.ADJ\n",
    "     elif pos_tag.startswith('V'):\n",
    "         return wordnet.VERB\n",
    "     elif pos_tag.startswith('N'):\n",
    "         return wordnet.NOUN\n",
    "     elif pos_tag.startswith('R'):\n",
    "         return wordnet.ADV\n",
    "     else:\n",
    "         return wordnet.NOUN"
   ]
  },
  {
   "cell_type": "code",
   "execution_count": 23,
   "metadata": {},
   "outputs": [],
   "source": [
    "def cleaning (question):\n",
    "        question = question.lower()\n",
    "        question = [word.strip(string.punctuation) for word in question.split()]\n",
    "        question = [word for word in question if not any(c.isdigit() for c in word)]\n",
    "        stop_words = stopwords.words('english')\n",
    "        question = [x for x in question if x not in stop_words]\n",
    "        unhelpful_info = {'where','what', 'why', 'how', 'error', 'when' }\n",
    "        question = [x for x in question if x not in unhelpful_info]\n",
    "        question = [t for t in question if len(t) > 0]\n",
    "        pos_tags = pos_tag(question)\n",
    "        question = [WordNetLemmatizer().lemmatize(t[0],Pos_tagging(t[1])) for t in pos_tags]\n",
    "        question = [t for t in question if len(t) > 1]\n",
    "        question = \" \".join(question)\n",
    "        return(question)"
   ]
  },
  {
   "cell_type": "code",
   "execution_count": 24,
   "metadata": {},
   "outputs": [],
   "source": [
    "# apply Cleaning function to questions\n",
    "dataset[\"clean\"] = dataset['question'].apply(lambda x:cleaning(x))"
   ]
  },
  {
   "cell_type": "code",
   "execution_count": 25,
   "metadata": {},
   "outputs": [],
   "source": [
    "# Labels are the values we want to predict\n",
    "labels = dataset[\"label\"]\n",
    "features = dataset[\"clean\"]"
   ]
  },
  {
   "cell_type": "code",
   "execution_count": 26,
   "metadata": {},
   "outputs": [],
   "source": [
    "# One-hot encode the data using pandas get_dummies\n",
    "#labels = pd.get_dummies(labels)"
   ]
  },
  {
   "cell_type": "code",
   "execution_count": 27,
   "metadata": {},
   "outputs": [],
   "source": [
    "# Split the data into training and testing sets\n",
    "X_train, X_test, y_train, y_test = train_test_split(features, labels, test_size = 0.3, random_state = 42)"
   ]
  },
  {
   "cell_type": "code",
   "execution_count": 28,
   "metadata": {},
   "outputs": [],
   "source": [
    "#    ______ Building model \"Random Forest Model\" ______\n",
    "\n",
    "# Pipeline for transforming data, fitting to model and predicting\n",
    "model_pipeline = Pipeline(steps=[\n",
    "        ('vect', CountVectorizer(stop_words='english')),\n",
    "        ('tfidf', TfidfTransformer()), \n",
    "        ('clf', RandomForestClassifier())])\n",
    "# Instantiate model with 100 decision trees  \n",
    "parameters = {\n",
    "        'clf__min_samples_split': [10],\n",
    "        'clf__n_estimators':      [100]\n",
    "       #'clf__max_leaf_nodes':    [25],\n",
    "       #'clf__max_depth':         [20],\n",
    "       #'clf__min_samples_leaf':  [5]\n",
    "}\n",
    "\n",
    "#GridSearch with the above parameters\n",
    "model = GridSearchCV(\n",
    "        model_pipeline, param_grid=parameters, scoring='accuracy', verbose=2\n",
    "   )"
   ]
  },
  {
   "cell_type": "code",
   "execution_count": 29,
   "metadata": {
    "scrolled": true
   },
   "outputs": [
    {
     "name": "stdout",
     "output_type": "stream",
     "text": [
      "Fitting 5 folds for each of 1 candidates, totalling 5 fits\n",
      "[CV] clf__min_samples_split=10, clf__n_estimators=100 ................\n"
     ]
    },
    {
     "name": "stderr",
     "output_type": "stream",
     "text": [
      "C:\\Users\\Hp\\Anaconda3\\lib\\site-packages\\sklearn\\model_selection\\_split.py:667: UserWarning: The least populated class in y has only 1 members, which is less than n_splits=5.\n",
      "  % (min_groups, self.n_splits)), UserWarning)\n",
      "[Parallel(n_jobs=1)]: Using backend SequentialBackend with 1 concurrent workers.\n"
     ]
    },
    {
     "name": "stdout",
     "output_type": "stream",
     "text": [
      "[CV] . clf__min_samples_split=10, clf__n_estimators=100, total=   4.6s\n",
      "[CV] clf__min_samples_split=10, clf__n_estimators=100 ................\n"
     ]
    },
    {
     "name": "stderr",
     "output_type": "stream",
     "text": [
      "[Parallel(n_jobs=1)]: Done   1 out of   1 | elapsed:    4.5s remaining:    0.0s\n"
     ]
    },
    {
     "name": "stdout",
     "output_type": "stream",
     "text": [
      "[CV] . clf__min_samples_split=10, clf__n_estimators=100, total=   5.0s\n",
      "[CV] clf__min_samples_split=10, clf__n_estimators=100 ................\n",
      "[CV] . clf__min_samples_split=10, clf__n_estimators=100, total=   4.9s\n",
      "[CV] clf__min_samples_split=10, clf__n_estimators=100 ................\n",
      "[CV] . clf__min_samples_split=10, clf__n_estimators=100, total=   5.9s\n",
      "[CV] clf__min_samples_split=10, clf__n_estimators=100 ................\n",
      "[CV] . clf__min_samples_split=10, clf__n_estimators=100, total=   4.9s\n"
     ]
    },
    {
     "name": "stderr",
     "output_type": "stream",
     "text": [
      "[Parallel(n_jobs=1)]: Done   5 out of   5 | elapsed:   25.4s finished\n"
     ]
    },
    {
     "data": {
      "text/plain": [
       "GridSearchCV(cv=None, error_score=nan,\n",
       "             estimator=Pipeline(memory=None,\n",
       "                                steps=[('vect',\n",
       "                                        CountVectorizer(analyzer='word',\n",
       "                                                        binary=False,\n",
       "                                                        decode_error='strict',\n",
       "                                                        dtype=<class 'numpy.int64'>,\n",
       "                                                        encoding='utf-8',\n",
       "                                                        input='content',\n",
       "                                                        lowercase=True,\n",
       "                                                        max_df=1.0,\n",
       "                                                        max_features=None,\n",
       "                                                        min_df=1,\n",
       "                                                        ngram_range=(1, 1),\n",
       "                                                        preprocessor=None,\n",
       "                                                        stop_words='english',\n",
       "                                                        strip_accents=None,\n",
       "                                                        token_patte...\n",
       "                                                               min_samples_leaf=1,\n",
       "                                                               min_samples_split=2,\n",
       "                                                               min_weight_fraction_leaf=0.0,\n",
       "                                                               n_estimators=100,\n",
       "                                                               n_jobs=None,\n",
       "                                                               oob_score=False,\n",
       "                                                               random_state=None,\n",
       "                                                               verbose=0,\n",
       "                                                               warm_start=False))],\n",
       "                                verbose=False),\n",
       "             iid='deprecated', n_jobs=None,\n",
       "             param_grid={'clf__min_samples_split': [10],\n",
       "                         'clf__n_estimators': [100]},\n",
       "             pre_dispatch='2*n_jobs', refit=True, return_train_score=False,\n",
       "             scoring='accuracy', verbose=2)"
      ]
     },
     "execution_count": 29,
     "metadata": {},
     "output_type": "execute_result"
    }
   ],
   "source": [
    "# Training model \"Random Forest Model\"\n",
    "model.fit(X_train, y_train) "
   ]
  },
  {
   "cell_type": "code",
   "execution_count": 30,
   "metadata": {},
   "outputs": [
    {
     "name": "stdout",
     "output_type": "stream",
     "text": [
      "Test accuracy:\n",
      " 45.53333333333333\n"
     ]
    }
   ],
   "source": [
    "#    ______ Evaluating model ______\n",
    "\n",
    "y_pred = model.predict(X_test)\n",
    "\n",
    "print(\"Test accuracy:\\n\",accuracy_score(y_test, y_pred)*100)\n"
   ]
  },
  {
   "cell_type": "code",
   "execution_count": 34,
   "metadata": {},
   "outputs": [],
   "source": [
    "model_filepath = 'C:/Users/Hp/Desktop/Precious_Model/Random_Forest_Model.pkl'\n",
    "def save_model(model: GridSearchCV, model_filepath: str) -> None:\n",
    "    \"\"\"\n",
    "    save the model to the designated model_filepath\n",
    "    :param model: GridSearchCV model to be saved\n",
    "    :param model_filepath: the file path for the saved model\n",
    "    :return: None\n",
    "    \"\"\"\n",
    "\n",
    "    with open(model_filepath, 'wb') as file:\n",
    "        pickle.dump(model, file)"
   ]
  },
  {
   "cell_type": "code",
   "execution_count": 35,
   "metadata": {
    "scrolled": true
   },
   "outputs": [
    {
     "name": "stdout",
     "output_type": "stream",
     "text": [
      "Saving model...\n",
      "    MODEL: C:/Users/Hp/Desktop/Precious_Model/Random_Forest_Model.pkl\n",
      "Trained model saved!\n"
     ]
    }
   ],
   "source": [
    "print('Saving model...\\n    MODEL: {}'.format(model_filepath))\n",
    "save_model(model, model_filepath)\n",
    "print('Trained model saved!')"
   ]
  },
  {
   "cell_type": "code",
   "execution_count": null,
   "metadata": {},
   "outputs": [],
   "source": []
  }
 ],
 "metadata": {
  "kernelspec": {
   "display_name": "Python 3",
   "language": "python",
   "name": "python3"
  },
  "language_info": {
   "codemirror_mode": {
    "name": "ipython",
    "version": 3
   },
   "file_extension": ".py",
   "mimetype": "text/x-python",
   "name": "python",
   "nbconvert_exporter": "python",
   "pygments_lexer": "ipython3",
   "version": "3.7.6"
  }
 },
 "nbformat": 4,
 "nbformat_minor": 4
}
