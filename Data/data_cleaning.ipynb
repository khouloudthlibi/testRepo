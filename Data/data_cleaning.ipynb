{
 "cells": [
  {
   "cell_type": "code",
   "execution_count": 2,
   "metadata": {},
   "outputs": [],
   "source": [
    "import string\n",
    "import pandas as pd\n",
    "from nltk import pos_tag\n",
    "from nltk.corpus import wordnet\n",
    "from nltk.corpus import stopwords\n",
    "from nltk.stem import WordNetLemmatizer\n"
   ]
  },
  {
   "cell_type": "code",
   "execution_count": 3,
   "metadata": {},
   "outputs": [],
   "source": [
    "# Load data csv format\n",
    "dataset = pd.read_csv(r'C:\\Users\\Hp\\Desktop\\Chatbot\\data\\data.csv', sep=';', header=0) \n",
    "#print(dataset)"
   ]
  },
  {
   "cell_type": "code",
   "execution_count": 4,
   "metadata": {},
   "outputs": [],
   "source": [
    "def Pos_tagging (pos_tag):\n",
    "     if pos_tag.startswith('J'):\n",
    "         return wordnet.ADJ\n",
    "     elif pos_tag.startswith('V'):\n",
    "         return wordnet.VERB\n",
    "     elif pos_tag.startswith('N'):\n",
    "         return wordnet.NOUN\n",
    "     elif pos_tag.startswith('R'):\n",
    "         return wordnet.ADV\n",
    "     else:\n",
    "         return wordnet.NOUN"
   ]
  },
  {
   "cell_type": "code",
   "execution_count": 5,
   "metadata": {},
   "outputs": [],
   "source": [
    "def cleaning (question):\n",
    "        question = question.lower()\n",
    "        question = [word.strip(string.punctuation) for word in question.split()]\n",
    "        question = [word for word in question if not any(c.isdigit() for c in word)]\n",
    "        stop_words = stopwords.words('english')\n",
    "        question = [x for x in question if x not in stop_words]\n",
    "        unhelpful_info = {'where','what', 'why', 'how', 'error', 'when' }\n",
    "        question = [x for x in question if x not in unhelpful_info]\n",
    "        question = [t for t in question if len(t) > 0]\n",
    "        pos_tags = pos_tag(question)\n",
    "        question = [WordNetLemmatizer().lemmatize(t[0],Pos_tagging(t[1])) for t in pos_tags]\n",
    "        question = [t for t in question if len(t) > 1]\n",
    "        question = \" \".join(question)\n",
    "        return(question)"
   ]
  },
  {
   "cell_type": "code",
   "execution_count": 6,
   "metadata": {},
   "outputs": [],
   "source": [
    "# apply Cleaning function to questions\n",
    "dataset[\"clean\"] = dataset['question'].apply(lambda x:cleaning(x))"
   ]
  },
  {
   "cell_type": "code",
   "execution_count": 12,
   "metadata": {},
   "outputs": [],
   "source": [
    "dataset.to_csv(r'C:\\Users\\Hp\\Desktop\\Chatbot\\Data\\data_Cleaned.csv', header=[\"question\", \"post_tag\", \"clean\"], sep=\"$\", index=False) "
   ]
  },
  {
   "cell_type": "code",
   "execution_count": null,
   "metadata": {},
   "outputs": [],
   "source": [
    "\n"
   ]
  }
 ],
 "metadata": {
  "kernelspec": {
   "display_name": "Python 3",
   "language": "python",
   "name": "python3"
  },
  "language_info": {
   "codemirror_mode": {
    "name": "ipython",
    "version": 3
   },
   "file_extension": ".py",
   "mimetype": "text/x-python",
   "name": "python",
   "nbconvert_exporter": "python",
   "pygments_lexer": "ipython3",
   "version": "3.7.6"
  }
 },
 "nbformat": 4,
 "nbformat_minor": 4
}
